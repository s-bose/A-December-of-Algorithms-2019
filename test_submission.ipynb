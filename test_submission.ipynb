{
  "nbformat": 4,
  "nbformat_minor": 0,
  "metadata": {
    "colab": {
      "name": "test_submission.ipynb",
      "provenance": [],
      "collapsed_sections": [],
      "toc_visible": true,
      "mount_file_id": "1UThgOfLfbCpLwNtkMhLb7FulcWhvWKRU",
      "authorship_tag": "ABX9TyOw8MfmkaBEdhmiLYhhf+3j",
      "include_colab_link": true
    },
    "kernelspec": {
      "name": "python3",
      "display_name": "Python 3"
    }
  },
  "cells": [
    {
      "cell_type": "markdown",
      "metadata": {
        "id": "view-in-github",
        "colab_type": "text"
      },
      "source": [
        "<a href=\"https://colab.research.google.com/github/s-bose/A-December-of-Algorithms-2019/blob/master/test_submission.ipynb\" target=\"_parent\"><img src=\"https://colab.research.google.com/assets/colab-badge.svg\" alt=\"Open In Colab\"/></a>"
      ]
    },
    {
      "cell_type": "markdown",
      "metadata": {
        "id": "biDH7OGmjbsH",
        "colab_type": "text"
      },
      "source": [
        " **Task 1.1 Write a function in python that identify which columns have date in them**"
      ]
    },
    {
      "cell_type": "code",
      "metadata": {
        "id": "SJcV6fmkJUgx",
        "colab_type": "code",
        "colab": {}
      },
      "source": [
        "import numpy as np\n",
        "import pandas as pd\n",
        "import re"
      ],
      "execution_count": 520,
      "outputs": []
    },
    {
      "cell_type": "code",
      "metadata": {
        "id": "QEORhoYjBYpt",
        "colab_type": "code",
        "colab": {}
      },
      "source": [
        "def get_date_cols(df, remove_nan=True):\n",
        "\n",
        "  \"\"\"\n",
        "  Returns column names which has date values\n",
        "  Converts the string date entries in the input dataframe into datetime64 object\n",
        "  Input: 'df' - any pandas.DataFrame object\n",
        "        'remove_nan' = (default) True, removes rows which have NaT value in the date column(s)\n",
        "  After conversion, the format is YYYY-MM-DD, regardless of the original format      \n",
        "  Invalid dates get converted to NaT and the corresponding rows are filtered out by default    \n",
        "  \"\"\"\n",
        "\n",
        "  # regex string pattern to match strings with a date format\n",
        "\n",
        "  reg = re.compile(\n",
        "      r\"\"\"\\s*  # optional whitespace\n",
        "      (\\d+)    # Day\n",
        "      \\s*\n",
        "      [-/,.]   # separator\n",
        "      \\s*\n",
        "      (\\d+)    # Month\n",
        "      \\s*\n",
        "      [-/,.]   # separator\n",
        "      \\s*\n",
        "      (\\d+)    # Years\n",
        "      \\s*      # optional whitespace\n",
        "      \"\"\", re.VERBOSE)\n",
        "\n",
        "  # first select all the nnon-numeric columns\n",
        "  str_cols = df.select_dtypes('object').columns.tolist()\n",
        "\n",
        "  # iterate over those column entries to filter out any column where no entry matches the regex\n",
        "\n",
        "  for col in str_cols:\n",
        "    if not df.loc[:, col].astype(str).str.match(reg).any():\n",
        "      str_cols.remove(col)\n",
        "\n",
        "  # additionally, remove whitespaces from the string date entries\n",
        "  # and convert them to datetime64 objects\n",
        "\n",
        "  for cols in str_cols: \n",
        "    df.loc[:, cols].replace(reg, r\"\\1/\\2/\\3\", inplace=True)\n",
        "    df.loc[:, cols] = df.loc[:, cols].apply(pd.to_datetime, dayfirst=True, utc=False, errors=\"coerce\")\n",
        "\n",
        "  if remove_nan:\n",
        "    df.dropna(subset=str_cols, inplace=True)\n",
        "\n",
        "  return str_cols\n"
      ],
      "execution_count": 614,
      "outputs": []
    },
    {
      "cell_type": "code",
      "metadata": {
        "id": "kGZe6u53DcIM",
        "colab_type": "code",
        "colab": {
          "base_uri": "https://localhost:8080/",
          "height": 347
        },
        "outputId": "56b4aad5-3aed-4569-8118-2c624f709ce3"
      },
      "source": [
        "np.random.seed(42)\n",
        "\n",
        "d = dict( A = np.random.randint(100, size=10), B = np.random.randn(10) , \n",
        "         C = np.array(['   32- 01-2020',\n",
        "                         '  15  / 07/2020  ',\n",
        "                         '12-31-1965    ',\n",
        "                         '  17/02/  2020',\n",
        "                         ' 2020/21/12',\n",
        "                         ' 31 / 12 / 1996 ',\n",
        "                         '19- 01-1999',\n",
        "                         '',\n",
        "                         ' 15-04-1996'\n",
        "                         ]),\n",
        "          D = np.array(['Alex', 'Brad', 'James', 'David', 'Dorothy', 'Sysadmin', 'Megan', 'Karen', 'Maverick'])\n",
        "          )\n",
        "\n",
        "date_df = pd.DataFrame(dict([ (key,pd.Series(vals)) for key, vals in d.items() ]))\n",
        "date_df"
      ],
      "execution_count": 567,
      "outputs": [
        {
          "output_type": "execute_result",
          "data": {
            "text/html": [
              "<div>\n",
              "<style scoped>\n",
              "    .dataframe tbody tr th:only-of-type {\n",
              "        vertical-align: middle;\n",
              "    }\n",
              "\n",
              "    .dataframe tbody tr th {\n",
              "        vertical-align: top;\n",
              "    }\n",
              "\n",
              "    .dataframe thead th {\n",
              "        text-align: right;\n",
              "    }\n",
              "</style>\n",
              "<table border=\"1\" class=\"dataframe\">\n",
              "  <thead>\n",
              "    <tr style=\"text-align: right;\">\n",
              "      <th></th>\n",
              "      <th>A</th>\n",
              "      <th>B</th>\n",
              "      <th>C</th>\n",
              "      <th>D</th>\n",
              "    </tr>\n",
              "  </thead>\n",
              "  <tbody>\n",
              "    <tr>\n",
              "      <th>0</th>\n",
              "      <td>51</td>\n",
              "      <td>0.279041</td>\n",
              "      <td>32- 01-2020</td>\n",
              "      <td>Alex</td>\n",
              "    </tr>\n",
              "    <tr>\n",
              "      <th>1</th>\n",
              "      <td>92</td>\n",
              "      <td>1.010515</td>\n",
              "      <td>15  / 07/2020</td>\n",
              "      <td>Brad</td>\n",
              "    </tr>\n",
              "    <tr>\n",
              "      <th>2</th>\n",
              "      <td>14</td>\n",
              "      <td>-0.580878</td>\n",
              "      <td>12-31-1965</td>\n",
              "      <td>James</td>\n",
              "    </tr>\n",
              "    <tr>\n",
              "      <th>3</th>\n",
              "      <td>71</td>\n",
              "      <td>-0.525170</td>\n",
              "      <td>17/02/  2020</td>\n",
              "      <td>David</td>\n",
              "    </tr>\n",
              "    <tr>\n",
              "      <th>4</th>\n",
              "      <td>60</td>\n",
              "      <td>-0.571380</td>\n",
              "      <td>2020/21/12</td>\n",
              "      <td>Dorothy</td>\n",
              "    </tr>\n",
              "    <tr>\n",
              "      <th>5</th>\n",
              "      <td>20</td>\n",
              "      <td>-0.924083</td>\n",
              "      <td>31 / 12 / 1996</td>\n",
              "      <td>Sysadmin</td>\n",
              "    </tr>\n",
              "    <tr>\n",
              "      <th>6</th>\n",
              "      <td>82</td>\n",
              "      <td>-2.612549</td>\n",
              "      <td>19- 01-1999</td>\n",
              "      <td>Megan</td>\n",
              "    </tr>\n",
              "    <tr>\n",
              "      <th>7</th>\n",
              "      <td>86</td>\n",
              "      <td>0.950370</td>\n",
              "      <td></td>\n",
              "      <td>Karen</td>\n",
              "    </tr>\n",
              "    <tr>\n",
              "      <th>8</th>\n",
              "      <td>74</td>\n",
              "      <td>0.816445</td>\n",
              "      <td>15-04-1996</td>\n",
              "      <td>Maverick</td>\n",
              "    </tr>\n",
              "    <tr>\n",
              "      <th>9</th>\n",
              "      <td>74</td>\n",
              "      <td>-1.523876</td>\n",
              "      <td>NaN</td>\n",
              "      <td>NaN</td>\n",
              "    </tr>\n",
              "  </tbody>\n",
              "</table>\n",
              "</div>"
            ],
            "text/plain": [
              "    A         B                  C         D\n",
              "0  51  0.279041        32- 01-2020      Alex\n",
              "1  92  1.010515    15  / 07/2020        Brad\n",
              "2  14 -0.580878     12-31-1965         James\n",
              "3  71 -0.525170       17/02/  2020     David\n",
              "4  60 -0.571380         2020/21/12   Dorothy\n",
              "5  20 -0.924083    31 / 12 / 1996   Sysadmin\n",
              "6  82 -2.612549        19- 01-1999     Megan\n",
              "7  86  0.950370                        Karen\n",
              "8  74  0.816445         15-04-1996  Maverick\n",
              "9  74 -1.523876                NaN       NaN"
            ]
          },
          "metadata": {
            "tags": []
          },
          "execution_count": 567
        }
      ]
    },
    {
      "cell_type": "code",
      "metadata": {
        "id": "EiVpCdmEBQN5",
        "colab_type": "code",
        "colab": {
          "base_uri": "https://localhost:8080/",
          "height": 34
        },
        "outputId": "c3290427-305b-4669-926b-204acd2d7724"
      },
      "source": [
        "date_cols = get_date_cols(date_df, remove_nan=False)\n",
        "\n",
        "print(f'the columns with dates are: {date_cols}')"
      ],
      "execution_count": 568,
      "outputs": [
        {
          "output_type": "stream",
          "text": [
            "the columns with dates are: ['C']\n"
          ],
          "name": "stdout"
        }
      ]
    },
    {
      "cell_type": "code",
      "metadata": {
        "id": "loqmHxU_FDWf",
        "colab_type": "code",
        "colab": {
          "base_uri": "https://localhost:8080/",
          "height": 347
        },
        "outputId": "84d35b26-6a8b-40a3-d2aa-813a2b2b73af"
      },
      "source": [
        "date_df"
      ],
      "execution_count": 569,
      "outputs": [
        {
          "output_type": "execute_result",
          "data": {
            "text/html": [
              "<div>\n",
              "<style scoped>\n",
              "    .dataframe tbody tr th:only-of-type {\n",
              "        vertical-align: middle;\n",
              "    }\n",
              "\n",
              "    .dataframe tbody tr th {\n",
              "        vertical-align: top;\n",
              "    }\n",
              "\n",
              "    .dataframe thead th {\n",
              "        text-align: right;\n",
              "    }\n",
              "</style>\n",
              "<table border=\"1\" class=\"dataframe\">\n",
              "  <thead>\n",
              "    <tr style=\"text-align: right;\">\n",
              "      <th></th>\n",
              "      <th>A</th>\n",
              "      <th>B</th>\n",
              "      <th>C</th>\n",
              "      <th>D</th>\n",
              "    </tr>\n",
              "  </thead>\n",
              "  <tbody>\n",
              "    <tr>\n",
              "      <th>0</th>\n",
              "      <td>51</td>\n",
              "      <td>0.279041</td>\n",
              "      <td>NaT</td>\n",
              "      <td>Alex</td>\n",
              "    </tr>\n",
              "    <tr>\n",
              "      <th>1</th>\n",
              "      <td>92</td>\n",
              "      <td>1.010515</td>\n",
              "      <td>2020-07-15</td>\n",
              "      <td>Brad</td>\n",
              "    </tr>\n",
              "    <tr>\n",
              "      <th>2</th>\n",
              "      <td>14</td>\n",
              "      <td>-0.580878</td>\n",
              "      <td>1965-12-31</td>\n",
              "      <td>James</td>\n",
              "    </tr>\n",
              "    <tr>\n",
              "      <th>3</th>\n",
              "      <td>71</td>\n",
              "      <td>-0.525170</td>\n",
              "      <td>2020-02-17</td>\n",
              "      <td>David</td>\n",
              "    </tr>\n",
              "    <tr>\n",
              "      <th>4</th>\n",
              "      <td>60</td>\n",
              "      <td>-0.571380</td>\n",
              "      <td>2020-12-21</td>\n",
              "      <td>Dorothy</td>\n",
              "    </tr>\n",
              "    <tr>\n",
              "      <th>5</th>\n",
              "      <td>20</td>\n",
              "      <td>-0.924083</td>\n",
              "      <td>1996-12-31</td>\n",
              "      <td>Sysadmin</td>\n",
              "    </tr>\n",
              "    <tr>\n",
              "      <th>6</th>\n",
              "      <td>82</td>\n",
              "      <td>-2.612549</td>\n",
              "      <td>1999-01-19</td>\n",
              "      <td>Megan</td>\n",
              "    </tr>\n",
              "    <tr>\n",
              "      <th>7</th>\n",
              "      <td>86</td>\n",
              "      <td>0.950370</td>\n",
              "      <td>NaT</td>\n",
              "      <td>Karen</td>\n",
              "    </tr>\n",
              "    <tr>\n",
              "      <th>8</th>\n",
              "      <td>74</td>\n",
              "      <td>0.816445</td>\n",
              "      <td>1996-04-15</td>\n",
              "      <td>Maverick</td>\n",
              "    </tr>\n",
              "    <tr>\n",
              "      <th>9</th>\n",
              "      <td>74</td>\n",
              "      <td>-1.523876</td>\n",
              "      <td>NaT</td>\n",
              "      <td>NaN</td>\n",
              "    </tr>\n",
              "  </tbody>\n",
              "</table>\n",
              "</div>"
            ],
            "text/plain": [
              "    A         B          C         D\n",
              "0  51  0.279041        NaT      Alex\n",
              "1  92  1.010515 2020-07-15      Brad\n",
              "2  14 -0.580878 1965-12-31     James\n",
              "3  71 -0.525170 2020-02-17     David\n",
              "4  60 -0.571380 2020-12-21   Dorothy\n",
              "5  20 -0.924083 1996-12-31  Sysadmin\n",
              "6  82 -2.612549 1999-01-19     Megan\n",
              "7  86  0.950370        NaT     Karen\n",
              "8  74  0.816445 1996-04-15  Maverick\n",
              "9  74 -1.523876        NaT       NaN"
            ]
          },
          "metadata": {
            "tags": []
          },
          "execution_count": 569
        }
      ]
    },
    {
      "cell_type": "markdown",
      "metadata": {
        "id": "73Sx8zk4NlPv",
        "colab_type": "text"
      },
      "source": [
        "**Task 1.2 Using these date columns make new columns which are difference between these columns taking 2 at a time**"
      ]
    },
    {
      "cell_type": "code",
      "metadata": {
        "id": "rzsUCOoJNp1U",
        "colab_type": "code",
        "colab": {
          "base_uri": "https://localhost:8080/",
          "height": 194
        },
        "outputId": "9dab2b85-3738-4426-fc81-a20a499b2af1"
      },
      "source": [
        "# create a new dataframe\n",
        "\n",
        "dates = ['31-08-1996', '01-12-1987', '15-12-1982', '1975-05-21', '1978-28-02']\n",
        "\n",
        "data = dict(name = ['alex', 'john', 'david', 'maria', 'fischer'],\n",
        "        work_hours_pw = np.random.randint(30, size=5),\n",
        "        birthday = dates\n",
        "        )\n",
        "\n",
        "\n",
        "new_df = pd.DataFrame(data)\n",
        "get_date_cols(new_df)\n",
        "\n",
        "new_df.info()"
      ],
      "execution_count": 612,
      "outputs": [
        {
          "output_type": "stream",
          "text": [
            "<class 'pandas.core.frame.DataFrame'>\n",
            "Int64Index: 5 entries, 0 to 4\n",
            "Data columns (total 3 columns):\n",
            " #   Column         Non-Null Count  Dtype         \n",
            "---  ------         --------------  -----         \n",
            " 0   name           5 non-null      object        \n",
            " 1   work_hours_pw  5 non-null      int64         \n",
            " 2   birthday       5 non-null      datetime64[ns]\n",
            "dtypes: datetime64[ns](1), int64(1), object(1)\n",
            "memory usage: 160.0+ bytes\n"
          ],
          "name": "stdout"
        }
      ]
    },
    {
      "cell_type": "markdown",
      "metadata": {
        "id": "EuS9H-UTNoDj",
        "colab_type": "text"
      },
      "source": [
        "**Task 1.3 Drop all the original columns containing the date and just keep the newly computed columns**"
      ]
    },
    {
      "cell_type": "code",
      "metadata": {
        "id": "SKOWUMYIIZPH",
        "colab_type": "code",
        "colab": {
          "base_uri": "https://localhost:8080/",
          "height": 194
        },
        "outputId": "7056d7b8-3fc8-44e6-ffd5-ef22803aed32"
      },
      "source": [
        "new_df2 = pd.read_csv(\"demo.csv\")\n",
        "get_date_cols(new_df2)\n",
        "new_df2.info()"
      ],
      "execution_count": 613,
      "outputs": [
        {
          "output_type": "stream",
          "text": [
            "<class 'pandas.core.frame.DataFrame'>\n",
            "Int64Index: 5 entries, 0 to 4\n",
            "Data columns (total 3 columns):\n",
            " #   Column      Non-Null Count  Dtype         \n",
            "---  ------      --------------  -----         \n",
            " 0   name        5 non-null      object        \n",
            " 1   work_hours  5 non-null      int64         \n",
            " 2   birthday    5 non-null      datetime64[ns]\n",
            "dtypes: datetime64[ns](1), int64(1), object(1)\n",
            "memory usage: 160.0+ bytes\n"
          ],
          "name": "stdout"
        }
      ]
    },
    {
      "cell_type": "code",
      "metadata": {
        "id": "dvkz_h7LJTd4",
        "colab_type": "code",
        "colab": {
          "base_uri": "https://localhost:8080/",
          "height": 230
        },
        "outputId": "d8361328-0201-4067-c53c-5cfe711fe63a"
      },
      "source": [
        "\n",
        "\n",
        "# initialise data of lists. \n",
        "birth_date = ['31-08-1996', '01-12-1987', '15-12-1982', '1975-05-21', '1978-28-02']\n",
        "start_date = ['01-01-2020', '05-17-2018', '31-08-2018', '2019-05-04', '11-12-2017']\n",
        "end_date = ['01-01-2022', '31-12-2020', '01-09-2021', '05-06-2021', '01-01-2019']\n",
        "\n",
        "data = {'name' : ['alex', 'john', 'david', 'maria', 'fischer'],\n",
        "        'work_hours_pw' : np.random.randint(30, size=5),\n",
        "        'birthday' : birth_date,\n",
        "        'start_date' : start_date,\n",
        "        'end_date' : end_date,       \n",
        "      } \n",
        "\n",
        "df2 = pd.DataFrame(data)\n",
        "df2.info()"
      ],
      "execution_count": 630,
      "outputs": [
        {
          "output_type": "stream",
          "text": [
            "<class 'pandas.core.frame.DataFrame'>\n",
            "RangeIndex: 5 entries, 0 to 4\n",
            "Data columns (total 5 columns):\n",
            " #   Column         Non-Null Count  Dtype \n",
            "---  ------         --------------  ----- \n",
            " 0   name           5 non-null      object\n",
            " 1   work_hours_pw  5 non-null      int64 \n",
            " 2   birthday       5 non-null      object\n",
            " 3   start_date     5 non-null      object\n",
            " 4   end_date       5 non-null      object\n",
            "dtypes: int64(1), object(4)\n",
            "memory usage: 328.0+ bytes\n"
          ],
          "name": "stdout"
        }
      ]
    },
    {
      "cell_type": "code",
      "metadata": {
        "id": "MBw7769EW7mb",
        "colab_type": "code",
        "colab": {
          "base_uri": "https://localhost:8080/",
          "height": 34
        },
        "outputId": "ebfba9a5-06a6-4e10-9747-7121891427f6"
      },
      "source": [
        "cols = get_date_cols(df2)\n",
        "cols"
      ],
      "execution_count": 631,
      "outputs": [
        {
          "output_type": "execute_result",
          "data": {
            "text/plain": [
              "['birthday', 'start_date', 'end_date']"
            ]
          },
          "metadata": {
            "tags": []
          },
          "execution_count": 631
        }
      ]
    },
    {
      "cell_type": "code",
      "metadata": {
        "id": "58phyJPiXlO7",
        "colab_type": "code",
        "colab": {
          "base_uri": "https://localhost:8080/",
          "height": 230
        },
        "outputId": "dce54a02-80e0-4baf-e059-8143604bd1cc"
      },
      "source": [
        "df2.info()"
      ],
      "execution_count": 633,
      "outputs": [
        {
          "output_type": "stream",
          "text": [
            "<class 'pandas.core.frame.DataFrame'>\n",
            "Int64Index: 5 entries, 0 to 4\n",
            "Data columns (total 5 columns):\n",
            " #   Column         Non-Null Count  Dtype         \n",
            "---  ------         --------------  -----         \n",
            " 0   name           5 non-null      object        \n",
            " 1   work_hours_pw  5 non-null      int64         \n",
            " 2   birthday       5 non-null      datetime64[ns]\n",
            " 3   start_date     5 non-null      datetime64[ns]\n",
            " 4   end_date       5 non-null      datetime64[ns]\n",
            "dtypes: datetime64[ns](3), int64(1), object(1)\n",
            "memory usage: 240.0+ bytes\n"
          ],
          "name": "stdout"
        }
      ]
    }
  ]
}